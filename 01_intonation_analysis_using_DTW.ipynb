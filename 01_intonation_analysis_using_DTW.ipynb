{
 "cells": [
  {
   "cell_type": "markdown",
   "metadata": {},
   "source": [
    "# Sentence and AudioFile Check"
   ]
  },
  {
   "cell_type": "code",
   "execution_count": 3,
   "metadata": {},
   "outputs": [
    {
     "data": {
      "text/html": [
       "<div>\n",
       "<style scoped>\n",
       "    .dataframe tbody tr th:only-of-type {\n",
       "        vertical-align: middle;\n",
       "    }\n",
       "\n",
       "    .dataframe tbody tr th {\n",
       "        vertical-align: top;\n",
       "    }\n",
       "\n",
       "    .dataframe thead th {\n",
       "        text-align: right;\n",
       "    }\n",
       "</style>\n",
       "<table border=\"1\" class=\"dataframe\">\n",
       "  <thead>\n",
       "    <tr style=\"text-align: right;\">\n",
       "      <th></th>\n",
       "      <th>NewNO</th>\n",
       "      <th>Sentence</th>\n",
       "      <th>Audio_File</th>\n",
       "      <th>Sent_NO</th>\n",
       "    </tr>\n",
       "  </thead>\n",
       "  <tbody>\n",
       "    <tr>\n",
       "      <th>0</th>\n",
       "      <td>1</td>\n",
       "      <td>Can we have three sodas?</td>\n",
       "      <td>0001_1_3.wav</td>\n",
       "      <td>14</td>\n",
       "    </tr>\n",
       "    <tr>\n",
       "      <th>1</th>\n",
       "      <td>2</td>\n",
       "      <td>I think so.</td>\n",
       "      <td>0002_1_2.wav</td>\n",
       "      <td>52</td>\n",
       "    </tr>\n",
       "  </tbody>\n",
       "</table>\n",
       "</div>"
      ],
      "text/plain": [
       "   NewNO                  Sentence    Audio_File  Sent_NO\n",
       "0      1  Can we have three sodas?  0001_1_3.wav       14\n",
       "1      2               I think so.  0002_1_2.wav       52"
      ]
     },
     "execution_count": 3,
     "metadata": {},
     "output_type": "execute_result"
    }
   ],
   "source": [
    "import pandas as pd\n",
    "\n",
    "Sentence_1000_sample = pd.read_excel('01_Sentence_AudioName_sample.xlsx') \n",
    "Sentence_1000_sample"
   ]
  },
  {
   "cell_type": "markdown",
   "metadata": {},
   "source": [
    "# Native Speaker Reference Speech vs. Student's Speech\n",
    "- DTW based on shape (Z-Normalized)"
   ]
  },
  {
   "cell_type": "code",
   "execution_count": 22,
   "metadata": {},
   "outputs": [],
   "source": [
    "import librosa\n",
    "import numpy as np\n",
    "import pandas as pd\n",
    "from dtaidistance import dtw\n",
    "from dtaidistance import dtw_visualisation as dtwvis\n",
    "import matplotlib.pyplot as plt\n",
    "import os\n",
    "from scipy import stats\n",
    "from dtaidistance import ed"
   ]
  },
  {
   "cell_type": "code",
   "execution_count": 8,
   "metadata": {},
   "outputs": [],
   "source": [
    "def extract_f0(file_path):\n",
    "    y, sr = librosa.load(file_path)\n",
    "    f0, voiced_flag, voiced_probs = librosa.pyin(y, fmin=librosa.note_to_hz('C2'), fmax=librosa.note_to_hz('C7'))\n",
    "    # Clean NaN values\n",
    "    f0 = f0[~np.isnan(f0)]\n",
    "    return f0"
   ]
  },
  {
   "cell_type": "code",
   "execution_count": 27,
   "metadata": {},
   "outputs": [
    {
     "name": "stdout",
     "output_type": "stream",
     "text": [
      "     Sent_NO                                        Test File   \n",
      "0         14     0001_1_20220527_5596514_39689_03B_1_SS_3.wav  \\\n",
      "1         52     0002_1_20220523_5582218_39688_02B_1_SS_2.wav   \n",
      "2          5     0003_1_20220516_5618660_39691_02B_1_SS_4.wav   \n",
      "3         45     0004_1_20220529_5603120_39692_01B_1_SS_1.wav   \n",
      "4         40  0005_1_20220519_5582175_39688_01B_1000_SS_3.wav   \n",
      "..       ...                                              ...   \n",
      "995       84     0996_1_20220502_5602052_39688_03B_1_SS_3.wav   \n",
      "996      148     0997_1_20220526_5624152_39692_02A_1_SS_4.wav   \n",
      "997      115     0998_1_20220514_5595805_39693_03B_1_SS_4.wav   \n",
      "998       71     0999_1_20220509_5605010_39691_03A_1_SS_3.wav   \n",
      "999       24     1000_1_20220508_5617383_39693_03A_1_SS_3.wav   \n",
      "\n",
      "     NS_DTW Distance                     Sentence  \n",
      "0           4.268282     Can we have three sodas?  \n",
      "1           2.715634                  I think so.  \n",
      "2           5.468992         Are you still tired?  \n",
      "3                inf                I can fix it.  \n",
      "4           4.888914         How do we get there?  \n",
      "..               ...                          ...  \n",
      "995         4.096350     It's really interesting.  \n",
      "996         0.938984                  Turn right.  \n",
      "997         7.866524                See you then!  \n",
      "998         4.341383  It is on the football team.  \n",
      "999         6.218547       Do you want some cake?  \n",
      "\n",
      "[1000 rows x 4 columns]\n",
      "Results saved to DTW_NS_Results_1000_z_Normal.xlsx\n"
     ]
    }
   ],
   "source": [
    "from PIL import Image, ImageDraw, ImageFont\n",
    "import pandas as pd\n",
    "import os\n",
    "\n",
    "font = ImageFont.load_default()\n",
    "\n",
    "# Load the combined DataFrame\n",
    "Sentence_1000 = pd.read_excel('01_Sentence_AudioName_sample.xlsx')  # Replace with your actual file path\n",
    "\n",
    "# Directory paths\n",
    "reference_dir = 'NS_178_split'  # Native Speaker Reference Audio\n",
    "test_files_dir = 'Y_RaterA_1000_wav'  # Students' Speaking Audio \n",
    "\n",
    "# Initialize DataFrame to store results\n",
    "results = []\n",
    "\n",
    "# Process each row in the DataFrame\n",
    "for index, row in Sentence_1000.iterrows():\n",
    "    # Reference file\n",
    "    reference_file_num = row['Sent_NO']\n",
    "    reference_file_sent = row['Sentence']\n",
    "    reference_file_path = os.path.join(reference_dir, f\"{reference_file_num}.wav\")\n",
    "\n",
    "    # Test file\n",
    "    test_file_name = row['Audio_File']\n",
    "    test_file_path = os.path.join(test_files_dir, test_file_name)\n",
    "\n",
    "    # Check if files exist\n",
    "    if not os.path.exists(reference_file_path) or not os.path.exists(test_file_path):\n",
    "        print(f\"File not found: {reference_file_path} or {test_file_path}\")\n",
    "        continue\n",
    "\n",
    "    # Load and extract F0 from the reference audio file\n",
    "    f0_reference = extract_f0(reference_file_path)\n",
    "    f0_reference_z = stats.zscore(f0_reference)\n",
    "    f0_test = extract_f0(test_file_path)\n",
    "    f0_test_z = stats.zscore(f0_test)\n",
    "    distance = dtw.distance(f0_reference_z, f0_test_z)\n",
    "\n",
    "    # Visualization\n",
    "    path = dtw.warping_path(f0_reference_z, f0_test_z)\n",
    "    base_name = os.path.splitext(os.path.basename(test_file_path))[0]\n",
    "    visualization_dir = \"warping_Y_RaterA_1000_script_NS_zNormal\"\n",
    "    if not os.path.exists(visualization_dir):\n",
    "        os.makedirs(visualization_dir)\n",
    "    visualization_file = os.path.join(visualization_dir, \"NS_normal_warping_\"+ base_name + \"_\" + reference_file_sent + \".png\")\n",
    "    dtwvis.plot_warping(f0_reference_z, f0_test_z, path, filename=visualization_file)\n",
    "\n",
    "\n",
    "    # Add sentence text to the image\n",
    "    sentence = row['Sentence']\n",
    "    img = Image.open(visualization_file)\n",
    "    draw = ImageDraw.Draw(img)\n",
    "    # You may need to adjust the font size and path to a font file\n",
    "    font = ImageFont.truetype(\"Times New Roman.ttf\", 20)\n",
    "    text_position = (150, img.height - 62)  # Adjust as needed\n",
    "    draw.text(text_position, sentence, font=font, fill=\"black\")\n",
    "    img.save(visualization_file)\n",
    "\n",
    "    # Store results\n",
    "    results.append({'Sent_NO': reference_file_num, 'Test File': test_file_name, 'NS_DTW Distance': distance, 'Sentence': sentence})\n",
    "\n",
    "\n",
    "# Create DataFrame and display results\n",
    "df = pd.DataFrame(results)\n",
    "print(df)\n",
    "\n",
    "# Save DataFrame as Excel file\n",
    "excel_file_path = 'DTW_NS_Results_1000_z_Normal.xlsx'\n",
    "df.to_excel(excel_file_path, index=False)\n",
    "\n",
    "print(f\"Results saved to {excel_file_path}\")"
   ]
  },
  {
   "cell_type": "code",
   "execution_count": null,
   "metadata": {},
   "outputs": [],
   "source": [
    "# End"
   ]
  }
 ],
 "metadata": {
  "kernelspec": {
   "display_name": "corpus_env",
   "language": "python",
   "name": "python3"
  },
  "language_info": {
   "codemirror_mode": {
    "name": "ipython",
    "version": 3
   },
   "file_extension": ".py",
   "mimetype": "text/x-python",
   "name": "python",
   "nbconvert_exporter": "python",
   "pygments_lexer": "ipython3",
   "version": "3.9.16"
  }
 },
 "nbformat": 4,
 "nbformat_minor": 2
}
